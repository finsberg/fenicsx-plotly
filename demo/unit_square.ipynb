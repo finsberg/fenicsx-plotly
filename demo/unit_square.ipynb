{
 "cells": [
  {
   "cell_type": "markdown",
   "metadata": {},
   "source": [
    "# Unit Square\n",
    "Here we show some example of plotting the objects defined on a Unit Square"
   ]
  },
  {
   "cell_type": "code",
   "execution_count": null,
   "metadata": {},
   "outputs": [],
   "source": [
    "import dolfinx\n",
    "from mpi4py import MPI\n",
    "from fenicsx_plotly import plot"
   ]
  },
  {
   "cell_type": "code",
   "execution_count": null,
   "metadata": {},
   "outputs": [],
   "source": [
    "mesh = dolfinx.mesh.create_unit_square(MPI.COMM_WORLD, 3, 3)"
   ]
  },
  {
   "cell_type": "code",
   "execution_count": null,
   "metadata": {},
   "outputs": [],
   "source": [
    "plot(mesh)"
   ]
  },
  {
   "cell_type": "code",
   "execution_count": null,
   "metadata": {},
   "outputs": [],
   "source": [
    "plot(mesh, wireframe=False)"
   ]
  },
  {
   "cell_type": "code",
   "execution_count": null,
   "metadata": {},
   "outputs": [],
   "source": [
    "#V = df.FunctionSpace(mesh, \"CG\",  3)\n",
    "#p = df.Function(V)\n",
    "#p.interpolate(df.Expression(\"sin(x[0])\", degree=1))\n",
    "#plot(p, scatter=True, wireframe=False)"
   ]
  },
  {
   "cell_type": "code",
   "execution_count": null,
   "metadata": {},
   "outputs": [],
   "source": [
    "#plot(V)"
   ]
  },
  {
   "cell_type": "code",
   "execution_count": null,
   "metadata": {},
   "outputs": [],
   "source": [
    "#plot(p, wireframe=False, show_grid=True)\n",
    "#plot(p, wireframe=True, show_grid=True)"
   ]
  },
  {
   "cell_type": "code",
   "execution_count": null,
   "metadata": {},
   "outputs": [],
   "source": [
    "#V = df.VectorFunctionSpace(mesh, \"CG\",  2)\n",
    "#u = df.Function(V)\n",
    "#u.interpolate(df.Expression((\"1 + x[0]\", \"x[1]\") , degree=1))\n",
    "#plot(u, size=1)\n",
    "#plot(u, normalize=True, size=0.1)\n",
    "#plot(u, norm=True, size=0.6)"
   ]
  },
  {
   "cell_type": "code",
   "execution_count": null,
   "metadata": {},
   "outputs": [],
   "source": [
    "#for component in [\"magnitude\", \"x\", \"y\"]:\n",
    "#    plot(u, component=component)"
   ]
  },
  {
   "cell_type": "code",
   "execution_count": null,
   "metadata": {},
   "outputs": [],
   "source": [
    "# Create a facet fuction in order to mark the subdomains\n",
    "#ffun = df.MeshFunction(\"size_t\", mesh, 2)\n",
    "#ffun.set_all(0)\n",
    "\n",
    "#fixed = df.CompiledSubDomain(\"x[0] < 0.5\")\n",
    "#free = df.CompiledSubDomain(\"x[0] >= 0.5\")\n",
    "# Mark the first subdomain with value 1\n",
    "\n",
    "#fixed_marker = 1\n",
    "#fixed.mark(ffun, fixed_marker)\n",
    "\n",
    "# Mark the second subdomain with value 2\n",
    "#free = df.CompiledSubDomain(\"near(x[0], 1) && on_boundary\")\n",
    "#free_marker = 2\n",
    "#free.mark(ffun, free_marker)\n",
    "\n",
    "#plot(ffun)"
   ]
  },
  {
   "cell_type": "code",
   "execution_count": null,
   "metadata": {},
   "outputs": [],
   "source": [
    "#V = df.VectorFunctionSpace(mesh, \"CG\",  2)\n",
    "#left = df.CompiledSubDomain(\"near(x[0], 0) && on_boundary\")\n",
    "#bc = df.DirichletBC(V, df.Constant((0.0, 0.0)), left)\n",
    "#plot(bc, wireframe=True)"
   ]
  }
 ],
 "metadata": {
  "kernelspec": {
   "display_name": "Python 3",
   "language": "python",
   "name": "python3"
  },
  "language_info": {
   "codemirror_mode": {
    "name": "ipython",
    "version": 3
   },
   "file_extension": ".py",
   "mimetype": "text/x-python",
   "name": "python",
   "nbconvert_exporter": "python",
   "pygments_lexer": "ipython3",
   "version": "3.11.0 (main, Nov  8 2022, 12:58:54) [Clang 14.0.0 (clang-1400.0.29.202)]"
  },
  "vscode": {
   "interpreter": {
    "hash": "7983682d8fc0c3c395069480bceea9d75cae47dba6ba56620eaa7b53995d4444"
   }
  }
 },
 "nbformat": 4,
 "nbformat_minor": 4
}
