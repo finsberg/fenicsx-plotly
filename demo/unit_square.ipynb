{
 "cells": [
  {
   "attachments": {},
   "cell_type": "markdown",
   "metadata": {},
   "source": [
    "# Unit Square\n",
    "\n",
    "Here we demonstrate how to plot different FEniCSx object for a unit square geometry\n",
    "\n",
    "First we make the necessary imports"
   ]
  },
  {
   "cell_type": "code",
   "execution_count": null,
   "metadata": {},
   "outputs": [],
   "source": [
    "import dolfinx\n",
    "import numpy as np\n",
    "from mpi4py import MPI\n",
    "import ufl\n",
    "from fenicsx_plotly import plot"
   ]
  },
  {
   "attachments": {},
   "cell_type": "markdown",
   "metadata": {},
   "source": [
    "First we create the unit square geometry"
   ]
  },
  {
   "cell_type": "code",
   "execution_count": null,
   "metadata": {},
   "outputs": [],
   "source": [
    "mesh = dolfinx.mesh.create_unit_square(MPI.COMM_WORLD, 3, 3)"
   ]
  },
  {
   "attachments": {},
   "cell_type": "markdown",
   "metadata": {},
   "source": [
    "Now we can plot the mesh. By default it will plot the mesh in wireframe"
   ]
  },
  {
   "cell_type": "code",
   "execution_count": null,
   "metadata": {},
   "outputs": [],
   "source": [
    "plot(mesh)"
   ]
  },
  {
   "attachments": {},
   "cell_type": "markdown",
   "metadata": {},
   "source": [
    "We can also turn off wireframe mode"
   ]
  },
  {
   "cell_type": "code",
   "execution_count": null,
   "metadata": {},
   "outputs": [],
   "source": [
    "plot(mesh, wireframe=False)"
   ]
  },
  {
   "attachments": {},
   "cell_type": "markdown",
   "metadata": {},
   "source": [
    "Now we can try to create a function space and plot the degrees of freedom"
   ]
  },
  {
   "cell_type": "code",
   "execution_count": null,
   "metadata": {},
   "outputs": [],
   "source": [
    "V = dolfinx.fem.FunctionSpace(mesh, (\"P\",  3))\n",
    "plot(V)"
   ]
  },
  {
   "attachments": {},
   "cell_type": "markdown",
   "metadata": {},
   "source": [
    "We can also plot a function in this function space"
   ]
  },
  {
   "cell_type": "code",
   "execution_count": null,
   "metadata": {},
   "outputs": [],
   "source": [
    "p = dolfinx.fem.Function(V)\n",
    "p.interpolate(lambda x: np.sin(x[0]))\n",
    "plot(p, scatter=True, wireframe=False, show_grid=True)"
   ]
  },
  {
   "attachments": {},
   "cell_type": "markdown",
   "metadata": {},
   "source": [
    "We can also create a vector function space"
   ]
  },
  {
   "cell_type": "code",
   "execution_count": null,
   "metadata": {},
   "outputs": [],
   "source": [
    "W = dolfinx.fem.FunctionSpace(mesh, ufl.VectorElement(\"P\", mesh.ufl_cell(), 2))\n",
    "plot(W)"
   ]
  },
  {
   "attachments": {},
   "cell_type": "markdown",
   "metadata": {},
   "source": [
    "and create a function in this function space"
   ]
  },
  {
   "cell_type": "code",
   "execution_count": null,
   "metadata": {},
   "outputs": [],
   "source": [
    "u = dolfinx.fem.Function(W)\n",
    "# Just create create some non-trivial function\n",
    "x = ufl.SpatialCoordinate(mesh)\n",
    "expr = dolfinx.fem.Expression(\n",
    "    ufl.as_vector((1 + x[0], x[1])), W.element.interpolation_points()\n",
    ")\n",
    "\n",
    "u.interpolate(expr)\n",
    "\n",
    "plot(u, size=1)\n",
    "plot(u, normalize=True, size=1)"
   ]
  },
  {
   "attachments": {},
   "cell_type": "markdown",
   "metadata": {},
   "source": [
    "We can also plot the different components"
   ]
  },
  {
   "cell_type": "code",
   "execution_count": null,
   "metadata": {},
   "outputs": [],
   "source": [
    "for component in [\"magnitude\", \"x\", \"y\"]:\n",
    "    plot(u, component=component)"
   ]
  },
  {
   "attachments": {},
   "cell_type": "markdown",
   "metadata": {},
   "source": [
    "And we can plot mesh tags"
   ]
  },
  {
   "cell_type": "code",
   "execution_count": null,
   "metadata": {},
   "outputs": [],
   "source": [
    "locator = lambda x: x[0] < 0.5\n",
    "entities = dolfinx.mesh.locate_entities(mesh, 2, locator)\n",
    "marker = 1\n",
    "values = np.full_like(entities, marker)\n",
    "\n",
    "facet_tags = dolfinx.mesh.meshtags(mesh, 2, entities, values)\n",
    "plot(facet_tags, show_grid=True)"
   ]
  },
  {
   "attachments": {},
   "cell_type": "markdown",
   "metadata": {},
   "source": [
    "And dirichlet BC (currently only scalar values)"
   ]
  },
  {
   "cell_type": "code",
   "execution_count": null,
   "metadata": {},
   "outputs": [],
   "source": [
    "boundary = lambda x: np.isclose(x[0], 0)\n",
    "\n",
    "el = ufl.FiniteElement(\"P\", mesh.ufl_cell(), 2)\n",
    "V = dolfinx.fem.FunctionSpace(mesh, el)\n",
    "\n",
    "dofs_D = dolfinx.fem.locate_dofs_geometrical(V, boundary)\n",
    "u_exact = lambda x: 1 + x[1]\n",
    "\n",
    "u_bc = dolfinx.fem.Function(V)\n",
    "u_bc.interpolate(u_exact)\n",
    "bc = dolfinx.fem.dirichletbc(u_bc, dofs_D)\n",
    "plot(bc, show_grid=True)"
   ]
  }
 ],
 "metadata": {
  "kernelspec": {
   "display_name": "Python 3",
   "language": "python",
   "name": "python3"
  },
  "language_info": {
   "codemirror_mode": {
    "name": "ipython",
    "version": 3
   },
   "file_extension": ".py",
   "mimetype": "text/x-python",
   "name": "python",
   "nbconvert_exporter": "python",
   "pygments_lexer": "ipython3",
   "version": "3.11.0 (main, Nov  8 2022, 12:58:54) [Clang 14.0.0 (clang-1400.0.29.202)]"
  },
  "vscode": {
   "interpreter": {
    "hash": "7983682d8fc0c3c395069480bceea9d75cae47dba6ba56620eaa7b53995d4444"
   }
  }
 },
 "nbformat": 4,
 "nbformat_minor": 4
}
