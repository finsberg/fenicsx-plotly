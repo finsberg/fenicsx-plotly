{
 "cells": [
  {
   "attachments": {},
   "cell_type": "markdown",
   "metadata": {},
   "source": [
    "# Unit Cube\n",
    "\n",
    "Here we demonstrate how to plot different FEniCSx object for a unit square geometry\n",
    "\n",
    "First we make the necessary imports"
   ]
  },
  {
   "cell_type": "code",
   "execution_count": null,
   "metadata": {},
   "outputs": [],
   "source": [
    "import dolfinx\n",
    "from mpi4py import MPI\n",
    "import ufl\n",
    "import numpy as np\n",
    "from fenicsx_plotly import plot"
   ]
  },
  {
   "attachments": {},
   "cell_type": "markdown",
   "metadata": {},
   "source": [
    "First we create the unit cube geometry"
   ]
  },
  {
   "cell_type": "code",
   "execution_count": null,
   "metadata": {},
   "outputs": [],
   "source": [
    "mesh = dolfinx.mesh.create_unit_cube(MPI.COMM_WORLD, 3, 3, 3)"
   ]
  },
  {
   "attachments": {},
   "cell_type": "markdown",
   "metadata": {},
   "source": [
    "Now we can plot the mesh. By default it will plot the mesh in wireframe"
   ]
  },
  {
   "cell_type": "code",
   "execution_count": null,
   "metadata": {},
   "outputs": [],
   "source": [
    "plot(mesh)"
   ]
  },
  {
   "attachments": {},
   "cell_type": "markdown",
   "metadata": {},
   "source": [
    "We can also turn off wireframe mode"
   ]
  },
  {
   "cell_type": "code",
   "execution_count": null,
   "metadata": {},
   "outputs": [],
   "source": [
    "plot(mesh, wireframe=False)"
   ]
  },
  {
   "attachments": {},
   "cell_type": "markdown",
   "metadata": {},
   "source": [
    "Now we can try to create a function space and plot the degrees of freedom"
   ]
  },
  {
   "cell_type": "code",
   "execution_count": null,
   "metadata": {},
   "outputs": [],
   "source": [
    "V = dolfinx.fem.FunctionSpace(mesh, (\"P\",  2))\n",
    "plot(V)"
   ]
  },
  {
   "attachments": {},
   "cell_type": "markdown",
   "metadata": {},
   "source": [
    "This is a scalar function space, but we could also try to create a vector function spaces"
   ]
  },
  {
   "cell_type": "code",
   "execution_count": null,
   "metadata": {},
   "outputs": [],
   "source": [
    "W = dolfinx.fem.FunctionSpace(mesh, ufl.VectorElement(\"P\", mesh.ufl_cell(), 2))\n",
    "plot(W)"
   ]
  },
  {
   "attachments": {},
   "cell_type": "markdown",
   "metadata": {},
   "source": [
    "We can also plot a function in the scalar function space"
   ]
  },
  {
   "cell_type": "code",
   "execution_count": null,
   "metadata": {},
   "outputs": [],
   "source": [
    "p = dolfinx.fem.Function(V)\n",
    "p.interpolate(lambda x: np.sin(x[0]))\n",
    "plot(p, scatter=True, wireframe=False)"
   ]
  },
  {
   "attachments": {},
   "cell_type": "markdown",
   "metadata": {},
   "source": [
    "Or we can use a surface plot"
   ]
  },
  {
   "cell_type": "code",
   "execution_count": null,
   "metadata": {},
   "outputs": [],
   "source": [
    "p = dolfinx.fem.Function(V)\n",
    "p.interpolate(lambda x: np.sin(x[0]))\n",
    "plot(p, scatter=False, wireframe=False, show_grid=True)"
   ]
  },
  {
   "attachments": {},
   "cell_type": "markdown",
   "metadata": {},
   "source": [
    "Now let us create a function in the vector function space and plot it"
   ]
  },
  {
   "cell_type": "code",
   "execution_count": null,
   "metadata": {},
   "outputs": [],
   "source": [
    "u = dolfinx.fem.Function(W)\n",
    "# Just create create some non-trivial function\n",
    "x = ufl.SpatialCoordinate(mesh)\n",
    "expr = dolfinx.fem.Expression(\n",
    "    ufl.as_vector((1 + x[0], x[1], x[2])), W.element.interpolation_points()\n",
    ")\n",
    "\n",
    "u.interpolate(expr)\n",
    "\n",
    "plot(u, size=1)\n",
    "plot(u, normalize=True, size=1)"
   ]
  },
  {
   "cell_type": "code",
   "execution_count": null,
   "metadata": {},
   "outputs": [],
   "source": [
    "\n",
    "for component in [\"magnitude\", \"x\", \"y\", \"z\"]:\n",
    "    plot(u, component=component)"
   ]
  },
  {
   "cell_type": "code",
   "execution_count": null,
   "metadata": {},
   "outputs": [],
   "source": [
    "#fixed = df.CompiledSubDomain(\"near(x[0], 0) && on_boundary\")\n",
    "#free = df.CompiledSubDomain(\"near(x[0], 1) && on_boundary\")\n",
    "\n",
    "# Create a facet fuction in order to mark the subdomains\n",
    "#ffun = df.MeshFunction(\"size_t\", mesh, 2)\n",
    "#ffun.set_all(0)\n",
    "\n",
    "# Mark the first subdomain with value 1\n",
    "#fixed_marker = 1\n",
    "#fixed.mark(ffun, fixed_marker)\n",
    "\n",
    "# Mark the second subdomain with value 2\n",
    "#free_marker = 2\n",
    "#free.mark(ffun, free_marker)\n",
    "\n",
    "#V = df.VectorFunctionSpace(mesh, \"CG\",  2)\n",
    "#bc = df.DirichletBC(V, df.Constant((0.0, 0.0, 0.0)), fixed)"
   ]
  },
  {
   "cell_type": "code",
   "execution_count": null,
   "metadata": {},
   "outputs": [],
   "source": [
    "#plot(bc)"
   ]
  },
  {
   "cell_type": "code",
   "execution_count": null,
   "metadata": {},
   "outputs": [],
   "source": [
    "#plot(ffun, show_grid=True)"
   ]
  },
  {
   "cell_type": "code",
   "execution_count": null,
   "metadata": {},
   "outputs": [],
   "source": [
    "#cfun = df.MeshFunction(\"size_t\", mesh, 3)\n",
    "#cfun.set_all(1)\n",
    "#tol=1e-14\n",
    "#left = df.CompiledSubDomain(\"x[0] <= 0.5 + tol\", tol=tol)\n",
    "#right = df.CompiledSubDomain(\"x[0] >= 0.5 - tol\", tol=tol)\n",
    "#left_marker = 1\n",
    "#left.mark(cfun, left_marker)\n",
    "    \n",
    "#right_marker = 2\n",
    "#right.mark(cfun, right_marker)\n",
    "#plot(cfun)#, scatter=True)"
   ]
  }
 ],
 "metadata": {
  "kernelspec": {
   "display_name": "Python 3",
   "language": "python",
   "name": "python3"
  },
  "language_info": {
   "codemirror_mode": {
    "name": "ipython",
    "version": 3
   },
   "file_extension": ".py",
   "mimetype": "text/x-python",
   "name": "python",
   "nbconvert_exporter": "python",
   "pygments_lexer": "ipython3",
   "version": "3.11.0 (main, Nov  8 2022, 12:58:54) [Clang 14.0.0 (clang-1400.0.29.202)]"
  },
  "vscode": {
   "interpreter": {
    "hash": "7983682d8fc0c3c395069480bceea9d75cae47dba6ba56620eaa7b53995d4444"
   }
  }
 },
 "nbformat": 4,
 "nbformat_minor": 4
}
